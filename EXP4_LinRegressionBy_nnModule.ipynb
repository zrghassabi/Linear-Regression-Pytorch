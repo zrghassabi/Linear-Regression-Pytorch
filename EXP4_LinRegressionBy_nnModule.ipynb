{
 "cells": [
  {
   "cell_type": "code",
   "execution_count": 1,
   "metadata": {},
   "outputs": [
    {
     "name": "stdout",
     "output_type": "stream",
     "text": [
      "OrderedDict([('neuron.weight', tensor([[1.9690]])), ('neuron.bias', tensor([1.0235]))])\n"
     ]
    },
    {
     "data": {
      "image/png": "[encoded data removed]",
      "text/plain": [
       "<Figure size 432x288 with 2 Axes>"
      ]
     },
     "metadata": {
      "needs_background": "light"
     },
     "output_type": "display_data"
    }
   ],
   "source": [
    "#Linear Regression by Rozita using nn.module (no need to a,b and seed), 9/15/2021 \n",
    "# y=a+bx\n",
    "\n",
    "import torch\n",
    "torch.cuda.is_available() #avaiablity of GPU on your device\n",
    "torch.cuda.get_device_properties('cuda:0') #GPU properties, You may see this alot in GoogleClab\n",
    "\n",
    "\n",
    "import numpy as np #------------------------------------------------------------------------------------------------------------\n",
    "\n",
    "#1- generate data (x,y) pairs using y=1+2x+n so that n is a gaussian noise\n",
    "np.random.seed(42)  # makes the random numbers predictable (a and b will not change every time you run the program)\n",
    "x=np.random.rand(100,1) #generate randome numbers between 1 and 100\n",
    "y = 1 + 2 * x + .1 * np.random.randn(100,1)\n",
    "\n",
    "#shuffle the indices\n",
    "idx = np.arange(100) \n",
    "np.random.shuffle(idx) #Modify a sequence in-place by shuffling its contents.\n",
    "\n",
    "\n",
    "#creat train and test or validation dataset \n",
    "#using first 80 random indices for train and using the remaining indices for validation\n",
    "x_train, y_train=x[idx[:80]], y[idx[:80]]\n",
    "x_test, y_test=x[idx[80:]], y[idx[80:]]\n",
    "\n",
    "# Converts numpy arrays to tensor\n",
    "x_train = torch.from_numpy(x_train).float()\n",
    "y_train = torch.from_numpy(y_train).float()\n",
    "\n",
    "x_test = torch.from_numpy(x_test).float()\n",
    "y_test= torch.from_numpy(y_test).float()\n",
    "\n",
    "#plot data using matplotlib #---------------------------------------------------------------------------------------------------\n",
    "import matplotlib.pyplot as plt\n",
    "plt.subplot(1,2,1)\n",
    "plt.plot(x_train, y_train, 'o')\n",
    "plt.title('Generetaed Data (Train)')\n",
    "plt.grid()\n",
    "plt.xlabel('x_train')\n",
    "plt.ylabel('y_train')\n",
    "plt.subplot(1,2,2)\n",
    "\n",
    "plt.plot(x_test, y_test, 'o')\n",
    "plt.title('Generetaed Data (Test)')\n",
    "plt.grid()\n",
    "plt.xlabel('x_test')\n",
    "plt.ylabel('y_test')\n",
    "\n",
    "# gradient Descent, Repeat four steps until loss gets very small #-------------------------------------------------------------\n",
    "\n",
    "#we need to generate random a and b to caculate predicted model\n",
    "#torch.manual_seed(42)\n",
    "#a = torch.randn(1, requires_grad=True) # requires_grad is true Cuz a is a parameter \n",
    "#b = torch.randn(1, requires_grad=True)\n",
    "#print('Initial value of a: ', a)\n",
    "#print('Initial value of b: ', b)\n",
    "#or\n",
    "# Defines model with nn.Sequential #no need to a and b and seed\n",
    "#lreg_model = torch.nn.Sequential(\n",
    "#    torch.nn.Linear(1, 1)\n",
    "#)\n",
    "#lreg_model.train()\n",
    "#or\n",
    "# Defines model with nn.Module # need to define a class\n",
    "class LinRegModel(torch.nn.Module):\n",
    "    def __init__(self):\n",
    "        super().__init__()\n",
    "        # Inputs to 1st hidden layer linear transformation \n",
    "        self.neuron = torch.nn.Linear(1, 1)\n",
    "        \n",
    "    def forward(self, x):\n",
    "        y = self.neuron(x)\n",
    "        return y\n",
    "    \n",
    "lreg_model2 = LinRegModel()        #guild an obj of defined class\n",
    "lreg_model2.train()\n",
    "\n",
    "# Sets learning rate\n",
    "lr = 1e-1\n",
    "\n",
    "# Defines optimizer\n",
    "#optimizer = torch.optim.SGD([a, b], lr=lr)  \n",
    "#optimizer = torch.optim.SGD(lreg_model.parameters(), lr=lr)  #no need to a and b  (for nn.sequential)\n",
    "optimizer = torch.optim.SGD(lreg_model2.parameters(), lr=lr)  #no need to a and b  (for nn.Module)\n",
    "\n",
    "# Defines MSE loss\n",
    "#lossMSE = torch.nn.MSELoss()\n",
    "Loss_fn=torch.nn.MSELoss()\n",
    "\n",
    "\n",
    "# Defines number of epochs\n",
    "n_epochs = 1000\n",
    "for epoch in range(n_epochs):\n",
    "    \n",
    "    #step 1= compute pridicted values of our model:\n",
    "    #we have to input x_train  and compute y_pred, \n",
    "    #yhat=b*x_train+a   \n",
    "    #or\n",
    "    # yhat = lreg_model(x_train)  # for nn. sequential (no need to a and b)\n",
    "    #or\n",
    "    yhat = lreg_model2(x_train)   #for nn.Module\n",
    "    \n",
    "    #step 2= caculate loss fucntion using MSE\n",
    "    \n",
    "    LossMSE=Loss_fn(yhat,y_train) # simple!\n",
    "    #difficult way\n",
    "    #error=y_train-y\n",
    "    #LossMSE=(error**2).mean()\n",
    "    #print(LossMSE)\n",
    "\n",
    "    #step 3= calculate gradient\n",
    "    LossMSE.backward()  # simple!\n",
    "    \n",
    "    # difficult way\n",
    "    #a_grad = -2 * error.mean()\n",
    "    #b_grad = -2 * (x_train * error).mean()\n",
    "    #print('a_grad: ', a_grad, 'b_grad: ', b_grad)\n",
    "    \n",
    "    #step 4= update parameters a and b using gradients and the learning rate\n",
    "    \n",
    "    optimizer.step()  # simple!\n",
    "    #difficult way\n",
    "    #a = a - lr * a_grad\n",
    "    #b = b - lr * b_grad\n",
    "    #print('a: ', a, 'b:',b)\n",
    "\n",
    "    # Resets gradients!(parameters a and b)\n",
    "    optimizer.zero_grad() \n",
    "\n",
    "\n",
    "print(lreg_model2.state_dict()) #for nn.Module change to lreg_model.state_dict for nn.sequential\n",
    "\n"
   ]
  },
  {
   "cell_type": "code",
   "execution_count": 2,
   "metadata": {},
   "outputs": [
    {
     "name": "stdout",
     "output_type": "stream",
     "text": [
      "OrderedDict([('neuron.weight', tensor([[1.9690]])), ('neuron.bias', tensor([1.0235]))])\n"
     ]
    },
    {
     "data": {
      "image/png": "[encoded data removed]",
      "text/plain": [
       "<Figure size 432x288 with 1 Axes>"
      ]
     },
     "metadata": {
      "needs_background": "light"
     },
     "output_type": "display_data"
    }
   ],
   "source": [
    "#print('Final value of a: ', a)\n",
    "#print('Final value of b: ', b)\n",
    "\n",
    "print(lreg_model2.state_dict())\n",
    "\n",
    "plt.plot(x_test, y_test, 'ro')\n",
    "plt.title('Validation data and reult of the trained regression model')\n",
    "plt.grid()\n",
    "plt.xlabel('x_val')\n",
    "plt.ylabel('y_val')\n",
    "\n",
    "# Final regression model\n",
    "#yhat = a + b * x_test\n",
    "\n",
    "yhat = lreg_model2(x_test) \n",
    "\n",
    "#Note, that if you wish, for some reason, to use pytorch only for mathematical operations without back-propagation,\n",
    "#you can use with torch.no_grad() context manager, in which case computational graphs are not created and torch.\n",
    "#tensors and np.ndarrays can be used interchangeably.\n",
    "with torch.no_grad():  \n",
    "    plt.plot(x_test, yhat, 'g')"
   ]
  },
  {
   "cell_type": "code",
   "execution_count": 7,
   "metadata": {},
   "outputs": [
    {
     "name": "stdout",
     "output_type": "stream",
     "text": [
      "[Parameter containing:\n",
      "tensor([[0.8981]], requires_grad=True), Parameter containing:\n",
      "tensor([-0.8957], requires_grad=True)] \t\n"
     ]
    }
   ],
   "source": [
    "print([*LinRegModel().parameters()], '\\t')"
   ]
  },
  {
   "cell_type": "code",
   "execution_count": null,
   "metadata": {},
   "outputs": [],
   "source": []
  }
 ],
 "metadata": {
  "kernelspec": {
   "display_name": "Python 3",
   "language": "python",
   "name": "python3"
  },
  "language_info": {
   "codemirror_mode": {
    "name": "ipython",
    "version": 3
   },
   "file_extension": ".py",
   "mimetype": "text/x-python",
   "name": "python",
   "nbconvert_exporter": "python",
   "pygments_lexer": "ipython3",
   "version": "3.8.5"
  }
 },
 "nbformat": 4,
 "nbformat_minor": 4
}
